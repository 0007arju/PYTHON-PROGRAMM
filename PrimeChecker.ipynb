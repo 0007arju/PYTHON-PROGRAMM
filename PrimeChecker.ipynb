{
  "nbformat": 4,
  "nbformat_minor": 0,
  "metadata": {
    "colab": {
      "provenance": []
    },
    "kernelspec": {
      "name": "python3",
      "display_name": "Python 3"
    },
    "language_info": {
      "name": "python"
    }
  },
  "cells": [
    {
      "cell_type": "code",
      "execution_count": null,
      "metadata": {
        "colab": {
          "base_uri": "https://localhost:8080/"
        },
        "id": "asXD3Ul8cWzW",
        "outputId": "4e7cbaf2-da26-4585-e86e-44a90cee2736"
      },
      "outputs": [
        {
          "output_type": "stream",
          "name": "stdout",
          "text": [
            "Enter an input number:4\n",
            "4 is not a prime number\n"
          ]
        }
      ],
      "source": [
        "# A default function for Prime checking conditions  \n",
        "def PrimeChecker(a):  \n",
        "    # Checking that given number is more than 1  \n",
        "    if a > 1:  \n",
        "        # Iterating over the given number with for loop  \n",
        "        for j in range(2, int(a/2) + 1):  \n",
        "            # If the given number is divisible or not  \n",
        "            if (a % j) == 0:  \n",
        "                print(a, \"is not a prime number\")  \n",
        "                break  \n",
        "        # Else it is a prime number  \n",
        "        else:  \n",
        "            print(a, \"is a prime number\")  \n",
        "    # If the given number is 1  \n",
        "    else:  \n",
        "        print(a, \"is not a prime number\")  \n",
        "# Taking an input number from the user  \n",
        "a = int(input(\"Enter an input number:\"))  \n",
        "# Printing result  \n",
        "PrimeChecker(a)"
      ]
    },
    {
      "cell_type": "code",
      "source": [],
      "metadata": {
        "id": "qWMXn3wyeVkz"
      },
      "execution_count": null,
      "outputs": []
    }
  ]
}