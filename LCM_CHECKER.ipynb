{
  "nbformat": 4,
  "nbformat_minor": 0,
  "metadata": {
    "colab": {
      "provenance": []
    },
    "kernelspec": {
      "name": "python3",
      "display_name": "Python 3"
    },
    "language_info": {
      "name": "python"
    }
  },
  "cells": [
    {
      "cell_type": "code",
      "execution_count": null,
      "metadata": {
        "id": "ItfNy0X2uXNC"
      },
      "outputs": [],
      "source": [
        "# defining a function to calculate LCM  \n",
        "def calculate_lcm(x, y):  \n",
        "    # selecting the greater number  \n",
        "    if x > y:  \n",
        "        greater = x  \n",
        "    else:  \n",
        "        greater = y  \n",
        "    while(True):  \n",
        "        if((greater % x == 0) and (greater % y == 0)):  \n",
        "            lcm = greater  \n",
        "            break  \n",
        "        greater += 1  \n",
        "    return lcm    \n",
        "  \n",
        "# taking input from users  \n",
        "num1 = int(input(\"Enter first number: \"))  \n",
        "num2 = int(input(\"Enter second number: \"))  \n",
        "# printing the result for the users  \n",
        "print(\"The L.C.M. of\", num1,\"and\", num2,\"is\", calculate_lcm(num1, num2))  "
      ]
    }
  ]
}