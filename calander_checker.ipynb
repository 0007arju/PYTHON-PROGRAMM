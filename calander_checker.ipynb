{
  "nbformat": 4,
  "nbformat_minor": 0,
  "metadata": {
    "colab": {
      "provenance": []
    },
    "kernelspec": {
      "name": "python3",
      "display_name": "Python 3"
    },
    "language_info": {
      "name": "python"
    }
  },
  "cells": [
    {
      "cell_type": "code",
      "execution_count": null,
      "metadata": {
        "colab": {
          "base_uri": "https://localhost:8080/"
        },
        "id": "5KXkLn_yxL17",
        "outputId": "51087c69-5bbc-4995-8a65-7a4aaca6b01d"
      },
      "outputs": [
        {
          "output_type": "stream",
          "name": "stdout",
          "text": [
            "Enter year: 2015\n",
            "Enter month: 5\n",
            "      May 2015\n",
            "Mo Tu We Th Fr Sa Su\n",
            "             1  2  3\n",
            " 4  5  6  7  8  9 10\n",
            "11 12 13 14 15 16 17\n",
            "18 19 20 21 22 23 24\n",
            "25 26 27 28 29 30 31\n",
            "\n"
          ]
        }
      ],
      "source": [
        "# First import the calendar module  \n",
        "import calendar  \n",
        "# ask of month and year  \n",
        "yy = int(input(\"Enter year: \"))  \n",
        "mm = int(input(\"Enter month: \"))  \n",
        "# display the calendar  \n",
        "print(calendar.month(yy,mm))  "
      ]
    },
    {
      "cell_type": "code",
      "source": [],
      "metadata": {
        "id": "NIX9IU0gxNzm"
      },
      "execution_count": null,
      "outputs": []
    }
  ]
}